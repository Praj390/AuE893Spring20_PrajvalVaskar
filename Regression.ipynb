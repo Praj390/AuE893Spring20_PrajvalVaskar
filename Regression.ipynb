{
  "nbformat": 4,
  "nbformat_minor": 0,
  "metadata": {
    "colab": {
      "name": "Regression.ipynb",
      "provenance": [],
      "collapsed_sections": [],
      "authorship_tag": "ABX9TyOCxx2rJvg+jaN9ywVIJvQD",
      "include_colab_link": true
    },
    "kernelspec": {
      "name": "python3",
      "display_name": "Python 3"
    },
    "accelerator": "GPU"
  },
  "cells": [
    {
      "cell_type": "markdown",
      "metadata": {
        "id": "view-in-github",
        "colab_type": "text"
      },
      "source": [
        "<a href=\"https://colab.research.google.com/github/Praj390/AuE893Spring20_PrajvalVaskar/blob/master/Regression.ipynb\" target=\"_parent\"><img src=\"https://colab.research.google.com/assets/colab-badge.svg\" alt=\"Open In Colab\"/></a>"
      ]
    },
    {
      "cell_type": "code",
      "metadata": {
        "id": "HwPjVDHB-iPA",
        "colab_type": "code",
        "colab": {
          "base_uri": "https://localhost:8080/",
          "height": 96
        },
        "outputId": "5f598398-8045-4684-ea6f-a5d3da627bcf"
      },
      "source": [
        "import numpy as np\n",
        "import matplotlib.pyplot as plt\n",
        "from keras.models import Sequential\n",
        "from keras.layers import Dense\n",
        "from keras.optimizers import Adam"
      ],
      "execution_count": null,
      "outputs": [
        {
          "output_type": "stream",
          "text": [
            "Using TensorFlow backend.\n"
          ],
          "name": "stderr"
        },
        {
          "output_type": "display_data",
          "data": {
            "text/html": [
              "<p style=\"color: red;\">\n",
              "The default version of TensorFlow in Colab will soon switch to TensorFlow 2.x.<br>\n",
              "We recommend you <a href=\"https://www.tensorflow.org/guide/migrate\" target=\"_blank\">upgrade</a> now \n",
              "or ensure your notebook will continue to use TensorFlow 1.x via the <code>%tensorflow_version 1.x</code> magic:\n",
              "<a href=\"https://colab.research.google.com/notebooks/tensorflow_version.ipynb\" target=\"_blank\">more info</a>.</p>\n"
            ],
            "text/plain": [
              "<IPython.core.display.HTML object>"
            ]
          },
          "metadata": {
            "tags": []
          }
        }
      ]
    },
    {
      "cell_type": "code",
      "metadata": {
        "id": "gj42JKnx-oWy",
        "colab_type": "code",
        "colab": {
          "base_uri": "https://localhost:8080/",
          "height": 282
        },
        "outputId": "0ba920f1-b857-4bfe-a8ef-c03093843f82"
      },
      "source": [
        "np.random.seed(0)\n",
        "points = 500\n",
        "x = np.linspace(-3,3,points)\n",
        "y = np.sin(x) + np.random.uniform(-0.5,0.5,points)\n",
        "plt.scatter(x,y)"
      ],
      "execution_count": null,
      "outputs": [
        {
          "output_type": "execute_result",
          "data": {
            "text/plain": [
              "<matplotlib.collections.PathCollection at 0x7f1ecc83d438>"
            ]
          },
          "metadata": {
            "tags": []
          },
          "execution_count": 3
        },
        {
          "output_type": "display_data",
          "data": {
            "image/png": "[encoded data removed]",
            "text/plain": [
              "<Figure size 432x288 with 1 Axes>"
            ]
          },
          "metadata": {
            "tags": []
          }
        }
      ]
    },
    {
      "cell_type": "code",
      "metadata": {
        "id": "P5BlB3nL-1Ut",
        "colab_type": "code",
        "colab": {
          "base_uri": "https://localhost:8080/",
          "height": 138
        },
        "outputId": "32f2bf5f-7003-4e25-83d5-12520849a936"
      },
      "source": [
        "model = Sequential()\n",
        "model.add(Dense(50,activation = 'sigmoid',input_dim=1))\n",
        "model.add(Dense(30,activation='sigmoid'))\n",
        "model.add(Dense(1))\n",
        "\n"
      ],
      "execution_count": null,
      "outputs": [
        {
          "output_type": "stream",
          "text": [
            "WARNING:tensorflow:From /usr/local/lib/python3.6/dist-packages/keras/backend/tensorflow_backend.py:66: The name tf.get_default_graph is deprecated. Please use tf.compat.v1.get_default_graph instead.\n",
            "\n",
            "WARNING:tensorflow:From /usr/local/lib/python3.6/dist-packages/keras/backend/tensorflow_backend.py:541: The name tf.placeholder is deprecated. Please use tf.compat.v1.placeholder instead.\n",
            "\n",
            "WARNING:tensorflow:From /usr/local/lib/python3.6/dist-packages/keras/backend/tensorflow_backend.py:4432: The name tf.random_uniform is deprecated. Please use tf.random.uniform instead.\n",
            "\n"
          ],
          "name": "stdout"
        }
      ]
    },
    {
      "cell_type": "code",
      "metadata": {
        "id": "vUZDrYatMQse",
        "colab_type": "code",
        "colab": {
          "base_uri": "https://localhost:8080/",
          "height": 1000
        },
        "outputId": "34a26f98-2a76-44e2-ff4e-f392b3aaa4dc"
      },
      "source": [
        "adam = Adam(lr=0.01)\n",
        "model.compile(loss='mse',optimizer= adam)\n",
        "model.fit(x,y,epochs = 50)"
      ],
      "execution_count": null,
      "outputs": [
        {
          "output_type": "stream",
          "text": [
            "WARNING:tensorflow:From /usr/local/lib/python3.6/dist-packages/keras/optimizers.py:793: The name tf.train.Optimizer is deprecated. Please use tf.compat.v1.train.Optimizer instead.\n",
            "\n",
            "WARNING:tensorflow:From /usr/local/lib/python3.6/dist-packages/keras/backend/tensorflow_backend.py:1033: The name tf.assign_add is deprecated. Please use tf.compat.v1.assign_add instead.\n",
            "\n",
            "WARNING:tensorflow:From /usr/local/lib/python3.6/dist-packages/keras/backend/tensorflow_backend.py:1020: The name tf.assign is deprecated. Please use tf.compat.v1.assign instead.\n",
            "\n",
            "WARNING:tensorflow:From /usr/local/lib/python3.6/dist-packages/keras/backend/tensorflow_backend.py:3005: The name tf.Session is deprecated. Please use tf.compat.v1.Session instead.\n",
            "\n",
            "Epoch 1/50\n",
            "WARNING:tensorflow:From /usr/local/lib/python3.6/dist-packages/keras/backend/tensorflow_backend.py:190: The name tf.get_default_session is deprecated. Please use tf.compat.v1.get_default_session instead.\n",
            "\n",
            "WARNING:tensorflow:From /usr/local/lib/python3.6/dist-packages/keras/backend/tensorflow_backend.py:197: The name tf.ConfigProto is deprecated. Please use tf.compat.v1.ConfigProto instead.\n",
            "\n",
            "WARNING:tensorflow:From /usr/local/lib/python3.6/dist-packages/keras/backend/tensorflow_backend.py:207: The name tf.global_variables is deprecated. Please use tf.compat.v1.global_variables instead.\n",
            "\n",
            "WARNING:tensorflow:From /usr/local/lib/python3.6/dist-packages/keras/backend/tensorflow_backend.py:216: The name tf.is_variable_initialized is deprecated. Please use tf.compat.v1.is_variable_initialized instead.\n",
            "\n",
            "WARNING:tensorflow:From /usr/local/lib/python3.6/dist-packages/keras/backend/tensorflow_backend.py:223: The name tf.variables_initializer is deprecated. Please use tf.compat.v1.variables_initializer instead.\n",
            "\n",
            "500/500 [==============================] - 9s 19ms/step - loss: 0.4560\n",
            "Epoch 2/50\n",
            "500/500 [==============================] - 0s 85us/step - loss: 0.2402\n",
            "Epoch 3/50\n",
            "500/500 [==============================] - 0s 87us/step - loss: 0.2620\n",
            "Epoch 4/50\n",
            "500/500 [==============================] - 0s 87us/step - loss: 0.2257\n",
            "Epoch 5/50\n",
            "500/500 [==============================] - 0s 85us/step - loss: 0.2283\n",
            "Epoch 6/50\n",
            "500/500 [==============================] - 0s 102us/step - loss: 0.2252\n",
            "Epoch 7/50\n",
            "500/500 [==============================] - 0s 141us/step - loss: 0.2179\n",
            "Epoch 8/50\n",
            "500/500 [==============================] - 0s 106us/step - loss: 0.2204\n",
            "Epoch 9/50\n",
            "500/500 [==============================] - 0s 125us/step - loss: 0.2047\n",
            "Epoch 10/50\n",
            "500/500 [==============================] - 0s 143us/step - loss: 0.1913\n",
            "Epoch 11/50\n",
            "500/500 [==============================] - 0s 127us/step - loss: 0.1914\n",
            "Epoch 12/50\n",
            "500/500 [==============================] - 0s 112us/step - loss: 0.1782\n",
            "Epoch 13/50\n",
            "500/500 [==============================] - 0s 117us/step - loss: 0.1688\n",
            "Epoch 14/50\n",
            "500/500 [==============================] - 0s 123us/step - loss: 0.1582\n",
            "Epoch 15/50\n",
            "500/500 [==============================] - 0s 106us/step - loss: 0.1557\n",
            "Epoch 16/50\n",
            "500/500 [==============================] - 0s 109us/step - loss: 0.1450\n",
            "Epoch 17/50\n",
            "500/500 [==============================] - 0s 89us/step - loss: 0.1386\n",
            "Epoch 18/50\n",
            "500/500 [==============================] - 0s 89us/step - loss: 0.1311\n",
            "Epoch 19/50\n",
            "500/500 [==============================] - 0s 83us/step - loss: 0.1222\n",
            "Epoch 20/50\n",
            "500/500 [==============================] - 0s 88us/step - loss: 0.1271\n",
            "Epoch 21/50\n",
            "500/500 [==============================] - 0s 84us/step - loss: 0.1180\n",
            "Epoch 22/50\n",
            "500/500 [==============================] - 0s 84us/step - loss: 0.1169\n",
            "Epoch 23/50\n",
            "500/500 [==============================] - 0s 87us/step - loss: 0.1184\n",
            "Epoch 24/50\n",
            "500/500 [==============================] - 0s 86us/step - loss: 0.1175\n",
            "Epoch 25/50\n",
            "500/500 [==============================] - 0s 82us/step - loss: 0.1113\n",
            "Epoch 26/50\n",
            "500/500 [==============================] - 0s 88us/step - loss: 0.1081\n",
            "Epoch 27/50\n",
            "500/500 [==============================] - 0s 85us/step - loss: 0.1111\n",
            "Epoch 28/50\n",
            "500/500 [==============================] - 0s 84us/step - loss: 0.1244\n",
            "Epoch 29/50\n",
            "500/500 [==============================] - 0s 80us/step - loss: 0.1239\n",
            "Epoch 30/50\n",
            "500/500 [==============================] - 0s 85us/step - loss: 0.1129\n",
            "Epoch 31/50\n",
            "500/500 [==============================] - 0s 114us/step - loss: 0.1079\n",
            "Epoch 32/50\n",
            "500/500 [==============================] - 0s 106us/step - loss: 0.1143\n",
            "Epoch 33/50\n",
            "500/500 [==============================] - 0s 107us/step - loss: 0.1080\n",
            "Epoch 34/50\n",
            "500/500 [==============================] - 0s 84us/step - loss: 0.1112\n",
            "Epoch 35/50\n",
            "500/500 [==============================] - 0s 80us/step - loss: 0.1047\n",
            "Epoch 36/50\n",
            "500/500 [==============================] - 0s 86us/step - loss: 0.1088\n",
            "Epoch 37/50\n",
            "500/500 [==============================] - 0s 84us/step - loss: 0.1069\n",
            "Epoch 38/50\n",
            "500/500 [==============================] - 0s 85us/step - loss: 0.1057\n",
            "Epoch 39/50\n",
            "500/500 [==============================] - 0s 84us/step - loss: 0.1052\n",
            "Epoch 40/50\n",
            "500/500 [==============================] - 0s 81us/step - loss: 0.1048\n",
            "Epoch 41/50\n",
            "500/500 [==============================] - 0s 89us/step - loss: 0.1152\n",
            "Epoch 42/50\n",
            "500/500 [==============================] - 0s 83us/step - loss: 0.1032\n",
            "Epoch 43/50\n",
            "500/500 [==============================] - 0s 79us/step - loss: 0.1035\n",
            "Epoch 44/50\n",
            "500/500 [==============================] - 0s 103us/step - loss: 0.1060\n",
            "Epoch 45/50\n",
            "500/500 [==============================] - 0s 87us/step - loss: 0.1021\n",
            "Epoch 46/50\n",
            "500/500 [==============================] - 0s 87us/step - loss: 0.1019\n",
            "Epoch 47/50\n",
            "500/500 [==============================] - 0s 80us/step - loss: 0.1124\n",
            "Epoch 48/50\n",
            "500/500 [==============================] - 0s 86us/step - loss: 0.1088\n",
            "Epoch 49/50\n",
            "500/500 [==============================] - 0s 81us/step - loss: 0.1042\n",
            "Epoch 50/50\n",
            "500/500 [==============================] - 0s 78us/step - loss: 0.1079\n"
          ],
          "name": "stdout"
        },
        {
          "output_type": "execute_result",
          "data": {
            "text/plain": [
              "<keras.callbacks.History at 0x7f1ecc8cfb38>"
            ]
          },
          "metadata": {
            "tags": []
          },
          "execution_count": 5
        }
      ]
    },
    {
      "cell_type": "code",
      "metadata": {
        "id": "4i6UyyfVMqq6",
        "colab_type": "code",
        "colab": {
          "base_uri": "https://localhost:8080/",
          "height": 265
        },
        "outputId": "4653ba17-57a7-4593-c7ec-157c120f23e9"
      },
      "source": [
        "prediction = model.predict(x)\n",
        "plt.scatter(x,y)\n",
        "plt.plot(x,prediction,'ro')\n",
        "plt.show()"
      ],
      "execution_count": null,
      "outputs": [
        {
          "output_type": "display_data",
          "data": {
            "image/png": "[encoded data removed]",
            "text/plain": [
              "<Figure size 432x288 with 1 Axes>"
            ]
          },
          "metadata": {
            "tags": []
          }
        }
      ]
    },
    {
      "cell_type": "code",
      "metadata": {
        "id": "jBFVCJ0oNOkN",
        "colab_type": "code",
        "colab": {}
      },
      "source": [
        ""
      ],
      "execution_count": null,
      "outputs": []
    }
  ]
}